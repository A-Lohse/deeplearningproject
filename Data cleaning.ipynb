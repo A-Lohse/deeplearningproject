{
 "cells": [
  {
   "cell_type": "code",
   "execution_count": 38,
   "id": "5a95d15a",
   "metadata": {},
   "outputs": [],
   "source": [
    "import json\n",
    "import pandas as pd"
   ]
  },
  {
   "cell_type": "code",
   "execution_count": 34,
   "id": "048efda3",
   "metadata": {},
   "outputs": [],
   "source": [
    "path = 'C:\\\\Users\\\\tnv664\\\\OneDrive - University of Copenhagen\\\\Documents\\\\Uni\\\\Ph.D\\\\deep learning\\\\02456-deep-learning-with-PyTorch\\\\project - shared data folde\\\\billsum_v4_1\\\\billsum_v4_1\\\\'\n",
    "path = 'C:\\\\Users\\\\tnv664\\\\OneDrive - University of Copenhagen\\\\Documents\\\\Uni\\Ph.D\\\\deep learning\\\\02456-deep-learning-with-PyTorch\\\\project - shared data folde\\\\billsum_v4_1\\\\billsum_v3\\\\'"
   ]
  },
  {
   "cell_type": "code",
   "execution_count": 35,
   "id": "860104e8",
   "metadata": {},
   "outputs": [],
   "source": [
    "with open(path +'us_train_data_final_OFFICIAL.jsonl', 'r') as json_file:\n",
    "    json_list = list(json_file)\n"
   ]
  },
  {
   "cell_type": "code",
   "execution_count": 36,
   "id": "5f67ee61",
   "metadata": {},
   "outputs": [
    {
     "data": {
      "text/plain": [
       "18949"
      ]
     },
     "execution_count": 36,
     "metadata": {},
     "output_type": "execute_result"
    }
   ],
   "source": [
    "len(json_list)"
   ]
  },
  {
   "cell_type": "code",
   "execution_count": 37,
   "id": "cd0e3051",
   "metadata": {},
   "outputs": [
    {
     "data": {
      "text/plain": [
       "dict_keys(['text', 'summary', 'bill_id', 'title', 'text_len', 'sum_len'])"
      ]
     },
     "execution_count": 37,
     "metadata": {},
     "output_type": "execute_result"
    }
   ],
   "source": [
    "json.loads(json_list[-1]).keys()"
   ]
  },
  {
   "cell_type": "code",
   "execution_count": 43,
   "id": "58d36f64",
   "metadata": {},
   "outputs": [],
   "source": [
    "df = pd.read_json(path +'us_train_data_final_OFFICIAL.jsonl', lines=True)"
   ]
  },
  {
   "cell_type": "code",
   "execution_count": 44,
   "id": "a7aded12",
   "metadata": {},
   "outputs": [
    {
     "data": {
      "text/plain": [
       "4285     103_hr1002\n",
       "14581    103_hr1003\n",
       "17535    103_hr1005\n",
       "9167     103_hr1007\n",
       "2940     103_hr1013\n",
       "            ...    \n",
       "2478       115_s972\n",
       "1324        115_s98\n",
       "1076       115_s982\n",
       "11587      115_s992\n",
       "2794       115_s995\n",
       "Name: bill_id, Length: 18949, dtype: object"
      ]
     },
     "execution_count": 44,
     "metadata": {},
     "output_type": "execute_result"
    }
   ],
   "source": [
    "df.bill_id.sort_values()"
   ]
  },
  {
   "cell_type": "code",
   "execution_count": 46,
   "id": "315ecaf8",
   "metadata": {},
   "outputs": [],
   "source": [
    "#import jsonlines\n",
    "import os\n",
    "import pandas as pd\n",
    "import pickle\n",
    "import re\n",
    "\n",
    "def replace_semicolon(text, threshold=10):\n",
    "    '''\n",
    "    Get rid of semicolons.\n",
    "    First split text into fragments between the semicolons. If the fragment \n",
    "    is longer than the threshold, turn the semicolon into a period. O.w treat\n",
    "    it as a comma.\n",
    "    Returns new text\n",
    "    '''\n",
    "    new_text = \"\"\n",
    "    for subset in re.split(';', text):\n",
    "        subset = subset.strip() # Clear off spaces\n",
    "        # Check word count\n",
    "        if len(subset.split()) > threshold:\n",
    "            # Turn first char into uppercase\n",
    "            new_text += \". \" + subset[0].upper() + subset[1:]\n",
    "        else:\n",
    "            # Just append with a comma \n",
    "            new_text += \", \" + subset\n",
    "\n",
    "    return new_text\n",
    "\n",
    "USC_re = re.compile('[Uu]\\.*[Ss]\\.*[Cc]\\.]+')\n",
    "PAREN_re = re.compile('\\([^(]+\\ [^\\(]+\\)')\n",
    "BAD_PUNCT_RE = re.compile(r'([%s])' % re.escape('\"#%&\\*\\+/<=>@[\\]^{|}~_'), re.UNICODE)\n",
    "BULLET_RE = re.compile('\\n[\\ \\t]*`*\\([a-zA-Z0-9]*\\)')\n",
    "DASH_RE = re.compile('--+')\n",
    "WHITESPACE_RE = re.compile('\\s+')\n",
    "EMPTY_SENT_RE = re.compile('[,\\.]\\ *[\\.,]')\n",
    "FIX_START_RE = re.compile('^[^A-Za-z]*')\n",
    "FIX_PERIOD = re.compile('\\.([A-Za-z])')\n",
    "SECTION_HEADER_RE = re.compile('SECTION [0-9]{1,2}\\.|\\nSEC\\.* [0-9]{1,2}\\.|Sec\\.* [0-9]{1,2}\\.')\n",
    "\n",
    "FIX_PERIOD = re.compile('\\.([A-Za-z])')\n",
    "\n",
    "SECTION_HEADER_RE = re.compile('SECTION [0-9]{1,2}\\.|\\nSEC\\.* [0-9]{1,2}\\.|Sec\\.* [0-9]{1,2}\\.')\n",
    "\n",
    "def clean_text(text):\n",
    "    \"\"\"\n",
    "    Borrowed from the FNDS text processing with additional logic added in.\n",
    "    Note: we do not take care of token breaking - assume SPACY's tokenizer\n",
    "    will handle this for us.\n",
    "    \"\"\"\n",
    "\n",
    "    # Indicate section headers, we need them for features\n",
    "    text = SECTION_HEADER_RE.sub('SECTION-HEADER', text)\n",
    "    # For simplicity later, remove '.' from most common acronym\n",
    "    text = text.replace(\"U.S.\", \"US\")\n",
    "    text = text.replace('SEC.', 'Section')\n",
    "    text = text.replace('Sec.', 'Section')\n",
    "    text = USC_re.sub('USC', text)\n",
    "\n",
    "    # Remove parantheticals because they are almost always references to laws \n",
    "    # We could add a special tag, but we just remove for now\n",
    "    # Note we dont get rid of nested parens because that is a complex re\n",
    "    #text = PAREN_re.sub('LAWREF', text)\n",
    "    text = PAREN_re.sub('', text)\n",
    "    \n",
    "\n",
    "    # Get rid of enums as bullets or ` as bullets\n",
    "    text = BULLET_RE.sub(' ',text)\n",
    "    \n",
    "    # Clean html \n",
    "    text = text.replace('&lt;all&gt;', '')\n",
    "\n",
    "    # Remove annoying punctuation, that's not relevant\n",
    "    text = BAD_PUNCT_RE.sub('', text)\n",
    "\n",
    "    # Get rid of long sequences of dashes - these are formating\n",
    "    text = DASH_RE.sub( ' ', text)\n",
    "\n",
    "    # removing newlines, tabs, and extra spaces.\n",
    "    text = WHITESPACE_RE.sub(' ', text)\n",
    "    \n",
    "    # If we ended up with \"empty\" sentences - get rid of them.\n",
    "    text = EMPTY_SENT_RE.sub('.', text)\n",
    "    \n",
    "    # Attempt to create sentences from bullets \n",
    "    text = replace_semicolon(text)\n",
    "    \n",
    "    # Fix weird period issues + start of text weirdness\n",
    "    #text = re.sub('\\.(?=[A-Z])', '  . ', text)\n",
    "    # Get rid of anything thats not a word from the start of the text\n",
    "    text = FIX_START_RE.sub( '', text)\n",
    "    # Sometimes periods get formatted weird, make sure there is a space between periods and start of sent   \n",
    "    text = FIX_PERIOD.sub(\". \\g<1>\", text)\n",
    "\n",
    "    # Fix quotes\n",
    "    text = text.replace('``', '\"')\n",
    "    text = text.replace('\\'\\'', '\"')\n",
    "\n",
    "    # Add special punct back in\n",
    "    text = text.replace('SECTION-HEADER', '<SECTION-HEADER>')\n",
    "\n",
    "    return text\n",
    "\n",
    "\n"
   ]
  },
  {
   "cell_type": "code",
   "execution_count": 53,
   "id": "d6b43efc",
   "metadata": {},
   "outputs": [],
   "source": [
    "df['clean_text'] = df['text'].apply(clean_text)"
   ]
  },
  {
   "cell_type": "code",
   "execution_count": 61,
   "id": "9b2dc13e",
   "metadata": {},
   "outputs": [
    {
     "data": {
      "text/plain": [
       "'<SECTION-HEADER> SHORT TITLE. This Act may be cited as the \"Indian Needs Assessment and Program Evaluation Act of 2001\". <SECTION-HEADER> FINDINGS, PURPOSES. Findings. Congress finds that the United States and the Indian tribes have a unique legal and political government-to-government relationship. Pursuant to the Constitution, treaties, statutes, Executive orders, court decisions, and course of conduct, the United States has a trust obligation to provide certain services to Indian tribes and to Indians. Federal departments and agencies charged with administering programs and providing services to, or for the benefit of, Indians have not furnished Congress with adequate information necessary to assess such programs on the needs of Indians and Indian tribes. Such lack of information has hampered the ability of Congress to determine the nature, type, and magnitude of such needs as well as its ability to respond to them. And Congress cannot properly fulfill its obligation to Indian tribes and Indian people unless and until it has an adequate store of information related to the needs of Indians nationwide. Purposes. The purposes of this Act are to ensure that Indian needs for Federal programs and services are known in a more certain and predictable fashion. Require that Federal departments and agencies carefully review and monitor the effectiveness of the programs and services provided to Indians. Provide for more efficient and effective cooperation and coordination of, and accountability from, the Federal departments and agencies providing programs and services, including technical and business development assistance, to Indians. And provide Congress with reliable information regarding Indian needs and the evaluation of Federal programs and services provided to Indians nationwide. <SECTION-HEADER> INDIAN TRIBAL NEEDS ASSESSMENT. Indian Tribal Needs Assessments. Immediate assessment. In general. Not later than 180 days after the date of enactment of this Act, the Secretary of the Interior shall contract with an appropriate entity, in consultation and coordination with the Indian tribes, the Secretary of Agriculture, the Secretary of Commerce, the Secretary of Defense, the Secretary of Energy, the Secretary of Health and Human Services, the Secretary of Housing and Urban Development, the Secretary of Labor, the Secretary of the Treasury, the Secretary of Transportation, the Secretary of Veterans Affairs, the Attorney General, the Administrator of the Environmental Protection Agency, and the heads of any other relevant Federal departments or agencies, for the development of a uniform method and criteria, and uniform procedures for determining, analyzing, and compiling the program and service assistance needs of Indian tribes and Indians by each such department or agency. The needs assessment shall address, but not be limited to, the following: The location of the service area of each program. The size of the service area of each program. The total population of each tribe located in the service area. The total population of members of other tribes located in the service area. The availability of similar programs within the geographical area to tribes or tribal members. The socio-economic conditions that exist within the service area. Consultation. The contractor shall consult with tribal governments in establishing and conducting the needs assessment required under subparagraph (A). Ongoing federal needs assessments. In general. Not later than 2 years after the date of enactment of this Act, and every 5 years thereafter, each Federal department or agency, in coordination with the Secretary of the Interior, shall conduct an Indian Needs Assessment aimed at determining the actual needs of Indian tribes and Indians eligible for programs and services administered by such department or agency. Submission to congress. Not later than February 1 of any year in which an INA is required to be conducted under subparagraph (A), a copy of the INA shall be submitted to the Committee on Appropriations and the Committee on Resources of the House of Representatives and the Committee on Appropriations and the Committee on Indian Affairs of the Senate. Federal Agency Indian Tribal Program Evaluation. In general. Not later than 180 days after the date of enactment of this Act, the Secretary of the Interior shall develop a uniform method and criteria, and uniform procedures for compiling, maintaining, keeping current, and reporting to Congress all information concerning the annual expenditures of the department or agency for programs and services for which Indians are eligible, with specific information regarding the names of tribes who are currently participating in or receiving each service, the names of tribes who have applied for and not received programs or services, and the names of tribes whose services or programs have been terminated within the last fiscal year. Services or programs specifically for the benefit of Indians, with specific information regarding the names of tribes who are currently participating in or receiving each service, the names of tribes who have applied for and not received programs or services, and the names of tribes whose services or programs have been terminated within the last fiscal year. And the department or agency method of delivery of such services and funding, including a detailed explanation of the outreach efforts of each agency or department to Indian tribes. Submission to Congress. Not later than 2 years after the date of enactment of this Act, and annually thereafter, each Federal department or agency responsible for providing services or programs to, or for the benefit of, Indian tribes or Indians shall file an Annual Indian Program Evaluation with the Committee on Appropriations and the Committee on Resources of the House of Representatives and the Committee on Appropriations and the Committee on Indian Affairs of the Senate. Annual Listing of Tribal Eligible Programs. Not later than February 1 of each calendar year, each Federal department or agency described in subsection (b)(2), shall develop and publish in the Federal Register a list of all programs and services offered by such department or agency for which Indian tribes or their members are or may be eligible, and shall provide a brief explanation of the program or service. Confidentiality. Any information received, collected, or gathered from Indian tribes concerning program function, operations, or need in order to conduct an INA or an AIPE shall be used only for the purposes of this Act set forth in section 2(b). <SECTION-HEADER> REPORT TO CONGRESS. In General. Not later than 2 years after the date of enactment of this Act, the Secretary of the Interior shall develop and submit to the Committee on Appropriations and the Committee on Resources of the House of Representatives and the Committee on Appropriations and the Committee on Indian Affairs of the Senate a report detailing the coordination of Federal program and service assistance for which Indian tribes and their members are eligible. Strategic Plan. Not later than 30 months after the date of enactment of this Act, the Secretary of the Interior, in consultation and coordination with the Indian tribes, shall file a Strategic Plan for the Coordination of Federal Assistance for Indians . Contents of Strategic Plan. The Strategic Plan required under subsection (b) shall contain the following: Identification of reforms necessary to the laws, regulations, policies, procedures, practices, and systems of the Federal departments or agencies involved. Proposals for implementing the reforms identified in the Strategic Plan. Any other recommendations that are consistent with the purposes of this Act set forth in section 2(b). <SECTION-HEADER> AUTHORIZATION OF APPROPRIATIONS. There are authorized to be appropriated for fiscal year 2002 and each fiscal year thereafter, such sums as are necessary to carry out this Act.'"
      ]
     },
     "execution_count": 61,
     "metadata": {},
     "output_type": "execute_result"
    }
   ],
   "source": [
    "df.clean_text[9]"
   ]
  },
  {
   "cell_type": "code",
   "execution_count": 47,
   "id": "9d62acf3",
   "metadata": {},
   "outputs": [
    {
     "ename": "KeyError",
     "evalue": "'BILLSUM_PREFIX'",
     "output_type": "error",
     "traceback": [
      "\u001b[1;31m---------------------------------------------------------------------------\u001b[0m",
      "\u001b[1;31mKeyError\u001b[0m                                  Traceback (most recent call last)",
      "\u001b[1;32m~\\AppData\\Local\\Temp/ipykernel_10448/3279622162.py\u001b[0m in \u001b[0;36m<module>\u001b[1;34m\u001b[0m\n\u001b[0;32m      2\u001b[0m \u001b[1;33m\u001b[0m\u001b[0m\n\u001b[0;32m      3\u001b[0m \u001b[1;33m\u001b[0m\u001b[0m\n\u001b[1;32m----> 4\u001b[1;33m     \u001b[0mprefix\u001b[0m \u001b[1;33m=\u001b[0m \u001b[0mos\u001b[0m\u001b[1;33m.\u001b[0m\u001b[0menviron\u001b[0m\u001b[1;33m[\u001b[0m\u001b[1;34m'BILLSUM_PREFIX'\u001b[0m\u001b[1;33m]\u001b[0m\u001b[1;33m\u001b[0m\u001b[1;33m\u001b[0m\u001b[0m\n\u001b[0m\u001b[0;32m      5\u001b[0m     \u001b[0mpath\u001b[0m \u001b[1;33m=\u001b[0m \u001b[0mos\u001b[0m\u001b[1;33m.\u001b[0m\u001b[0mpath\u001b[0m\u001b[1;33m.\u001b[0m\u001b[0mjoin\u001b[0m\u001b[1;33m(\u001b[0m\u001b[0mprefix\u001b[0m\u001b[1;33m,\u001b[0m \u001b[1;34m'data_final'\u001b[0m\u001b[1;33m)\u001b[0m\u001b[1;33m\u001b[0m\u001b[1;33m\u001b[0m\u001b[0m\n\u001b[0;32m      6\u001b[0m \u001b[1;33m\u001b[0m\u001b[0m\n",
      "\u001b[1;32m~\\Anaconda3\\lib\\os.py\u001b[0m in \u001b[0;36m__getitem__\u001b[1;34m(self, key)\u001b[0m\n\u001b[0;32m    673\u001b[0m         \u001b[1;32mexcept\u001b[0m \u001b[0mKeyError\u001b[0m\u001b[1;33m:\u001b[0m\u001b[1;33m\u001b[0m\u001b[1;33m\u001b[0m\u001b[0m\n\u001b[0;32m    674\u001b[0m             \u001b[1;31m# raise KeyError with the original key value\u001b[0m\u001b[1;33m\u001b[0m\u001b[1;33m\u001b[0m\u001b[1;33m\u001b[0m\u001b[0m\n\u001b[1;32m--> 675\u001b[1;33m             \u001b[1;32mraise\u001b[0m \u001b[0mKeyError\u001b[0m\u001b[1;33m(\u001b[0m\u001b[0mkey\u001b[0m\u001b[1;33m)\u001b[0m \u001b[1;32mfrom\u001b[0m \u001b[1;32mNone\u001b[0m\u001b[1;33m\u001b[0m\u001b[1;33m\u001b[0m\u001b[0m\n\u001b[0m\u001b[0;32m    676\u001b[0m         \u001b[1;32mreturn\u001b[0m \u001b[0mself\u001b[0m\u001b[1;33m.\u001b[0m\u001b[0mdecodevalue\u001b[0m\u001b[1;33m(\u001b[0m\u001b[0mvalue\u001b[0m\u001b[1;33m)\u001b[0m\u001b[1;33m\u001b[0m\u001b[1;33m\u001b[0m\u001b[0m\n\u001b[0;32m    677\u001b[0m \u001b[1;33m\u001b[0m\u001b[0m\n",
      "\u001b[1;31mKeyError\u001b[0m: 'BILLSUM_PREFIX'"
     ]
    }
   ],
   "source": [
    "\n",
    "#if __name__ == '__main__':\n",
    "\n",
    "\n",
    " #   prefix = os.environ['BILLSUM_PREFIX']\n",
    "  #  path = os.path.join(prefix, 'data_final')\n",
    "\n",
    "    # Create dir where data should be saved\n",
    "   # save_path = os.path.join(prefix, 'clean_final')\n",
    "    #os.mkdir(save_path)\n",
    "\n",
    "for i, file in enumerate(df): #os.listdir(path):\n",
    "    #if '.jsonl' not in file:\n",
    "        #continue\n",
    "\n",
    "\n",
    "    #file_path = os.path.join(path,  file)\n",
    "\n",
    "    #print(\"Now processing\", file_path)\n",
    "\n",
    "    #data = pd.read_json(file_path, lines=True)\n",
    "    data = df.iloc\n",
    "    \n",
    "    data['clean_text'] = data.text.map(clean_text)\n",
    "\n",
    "    data['clean_summary'] = data.summary.map(clean_text)\n",
    "\n",
    "    data['clean_title'] = data.title.map(clean_text)\n",
    "\n",
    "   # save_path = os.path.join(prefix, 'clean_final', file)\n",
    "\n",
    "   # data.to_json(save_path, lines=True, orient='records')\n"
   ]
  },
  {
   "cell_type": "code",
   "execution_count": null,
   "id": "3c4c7995",
   "metadata": {},
   "outputs": [],
   "source": []
  }
 ],
 "metadata": {
  "kernelspec": {
   "display_name": "Python 3 (ipykernel)",
   "language": "python",
   "name": "python3"
  },
  "language_info": {
   "codemirror_mode": {
    "name": "ipython",
    "version": 3
   },
   "file_extension": ".py",
   "mimetype": "text/x-python",
   "name": "python",
   "nbconvert_exporter": "python",
   "pygments_lexer": "ipython3",
   "version": "3.8.11"
  }
 },
 "nbformat": 4,
 "nbformat_minor": 5
}
