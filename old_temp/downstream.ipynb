{
 "cells": [
  {
   "cell_type": "code",
   "execution_count": 1,
   "id": "bd61b034-5f54-4f2c-bff5-0610666390cb",
   "metadata": {},
   "outputs": [],
   "source": [
    "import pandas as pd"
   ]
  },
  {
   "cell_type": "code",
   "execution_count": 8,
   "id": "8e91489e-a722-46ee-8be3-3d28be63c6bd",
   "metadata": {},
   "outputs": [
    {
     "data": {
      "text/plain": [
       "<AxesSubplot:>"
      ]
     },
     "execution_count": 8,
     "metadata": {},
     "output_type": "execute_result"
    },
    {
     "data": {
      "image/png": "[encoded data removed]",
      "text/plain": [
       "<Figure size 432x288 with 1 Axes>"
      ]
     },
     "metadata": {
      "needs_background": "light"
     },
     "output_type": "display_data"
    }
   ],
   "source": [
    "pd.read_pickle('data/results/train_val_metrics_2021-12-31.pkl')['CNN']['train_loss'].plot()"
   ]
  },
  {
   "cell_type": "code",
   "execution_count": 10,
   "id": "afa39205",
   "metadata": {
    "executionInfo": {
     "elapsed": 6172,
     "status": "ok",
     "timestamp": 1638637762443,
     "user": {
      "displayName": "August Lohse",
      "photoUrl": "https://lh3.googleusercontent.com/a/default-user=s64",
      "userId": "07860114388602856212"
     },
     "user_tz": -60
    },
    "id": "afa39205"
   },
   "outputs": [
    {
     "ename": "ImportError",
     "evalue": "cannot import name 'straitified_train_validation_split' from 'data_utils' (/home/matiasp/University/deeplearningproject/data_utils.py)",
     "output_type": "error",
     "traceback": [
      "\u001b[0;31m---------------------------------------------------------------------------\u001b[0m",
      "\u001b[0;31mImportError\u001b[0m                               Traceback (most recent call last)",
      "\u001b[0;32m/tmp/ipykernel_5047/3589780463.py\u001b[0m in \u001b[0;36m<module>\u001b[0;34m\u001b[0m\n\u001b[1;32m     13\u001b[0m \u001b[0;32mfrom\u001b[0m \u001b[0mtqdm\u001b[0m \u001b[0;32mimport\u001b[0m \u001b[0mtqdm\u001b[0m\u001b[0;34m\u001b[0m\u001b[0;34m\u001b[0m\u001b[0m\n\u001b[1;32m     14\u001b[0m \u001b[0;31m#from import_dataloader_and_class_weights import import_data_loaders_and_class_weights\u001b[0m\u001b[0;34m\u001b[0m\u001b[0;34m\u001b[0m\u001b[0m\n\u001b[0;32m---> 15\u001b[0;31m \u001b[0;32mfrom\u001b[0m \u001b[0mdata_utils\u001b[0m \u001b[0;32mimport\u001b[0m \u001b[0mstraitified_train_validation_split\u001b[0m\u001b[0;34m,\u001b[0m \u001b[0mdataloader\u001b[0m\u001b[0;34m\u001b[0m\u001b[0;34m\u001b[0m\u001b[0m\n\u001b[0m\u001b[1;32m     16\u001b[0m \u001b[0;32mfrom\u001b[0m \u001b[0msklearn\u001b[0m\u001b[0;34m.\u001b[0m\u001b[0mutils\u001b[0m\u001b[0;34m.\u001b[0m\u001b[0mclass_weight\u001b[0m \u001b[0;32mimport\u001b[0m \u001b[0mcompute_class_weight\u001b[0m\u001b[0;34m\u001b[0m\u001b[0;34m\u001b[0m\u001b[0m\n\u001b[1;32m     17\u001b[0m \u001b[0;34m\u001b[0m\u001b[0m\n",
      "\u001b[0;31mImportError\u001b[0m: cannot import name 'straitified_train_validation_split' from 'data_utils' (/home/matiasp/University/deeplearningproject/data_utils.py)"
     ]
    }
   ],
   "source": [
    "from data_utils import dataloader\n",
    "import pandas as pd\n",
    "#from models import BillNet\n",
    "from sklearn.metrics import recall_score, precision_score, f1_score, accuracy_score, confusion_matrix\n",
    "from sklearn.metrics import roc_curve\n",
    "from sklearn.metrics import roc_auc_score\n",
    "import matplotlib.pyplot as plt\n",
    "from sklearn.metrics import precision_recall_curve\n",
    "import torch\n",
    "import numpy as np\n",
    "import torch.optim as optim\n",
    "import torch.nn as nn\n",
    "from tqdm import tqdm\n",
    "#from import_dataloader_and_class_weights import import_data_loaders_and_class_weights\n",
    "from data_utils import straitified_train_validation_split, dataloader\n",
    "from sklearn.utils.class_weight import compute_class_weight\n",
    "\n",
    "%load_ext autoreload\n",
    "%autoreload 2"
   ]
  },
  {
   "cell_type": "markdown",
   "id": "3c037ea7-af4e-4aa4-8314-ee6a102e0cb7",
   "metadata": {
    "tags": []
   },
   "source": [
    "## Prepare Metadata"
   ]
  },
  {
   "cell_type": "code",
   "execution_count": null,
   "id": "be5b088b-b59e-4115-bae3-ac7bb94666d5",
   "metadata": {},
   "outputs": [],
   "source": [
    "codebook = pd.read_csv('data/processed/billscodebook.csv', index_col=0)"
   ]
  },
  {
   "cell_type": "code",
   "execution_count": 10,
   "id": "2902e3e7-61e8-4bff-99b7-9a855c237475",
   "metadata": {},
   "outputs": [
    {
     "name": "stderr",
     "output_type": "stream",
     "text": [
      "/home/matiasp/miniconda3/envs/pyenv/lib/python3.9/site-packages/IPython/core/interactiveshell.py:3444: DtypeWarning: Columns (55,58,59,60,61,62,63,64,65,66,67) have mixed types.Specify dtype option on import or set low_memory=False.\n",
      "  exec(code_obj, self.user_global_ns, self.user_ns)\n"
     ]
    }
   ],
   "source": [
    "metadata = pd.read_csv('data/processed/bill_metadata.csv', index_col=0)"
   ]
  },
  {
   "cell_type": "code",
   "execution_count": 11,
   "id": "8cd20124-f108-4fb2-977b-e308d6b4bfb5",
   "metadata": {},
   "outputs": [],
   "source": [
    "keepcols = ['bill_id', 'status', 'cong', 'Cosponsr', 'Majority', 'Gender', 'Party']"
   ]
  },
  {
   "cell_type": "code",
   "execution_count": 12,
   "id": "7d4170a0-7463-4eab-a8e9-0f1e06878fae",
   "metadata": {},
   "outputs": [],
   "source": [
    "metadata = metadata[keepcols]#.head(50)\n",
    "metadata[['republican', 'independent']] = pd.get_dummies(metadata['Party'], drop_first=True)"
   ]
  },
  {
   "cell_type": "code",
   "execution_count": 13,
   "id": "1bb370b9-d13e-4abc-9fa3-feaddac60d83",
   "metadata": {},
   "outputs": [],
   "source": [
    "train_meta = metadata.loc[metadata['cong'] != 115][['Cosponsr', 'Majority', 'Gender', 'republican', 'independent']]"
   ]
  },
  {
   "cell_type": "code",
   "execution_count": 14,
   "id": "671797cc-6db5-42e8-a0e8-10a5e53a39bf",
   "metadata": {},
   "outputs": [],
   "source": [
    "train_meta = torch.tensor(train_meta.to_numpy())"
   ]
  },
  {
   "cell_type": "code",
   "execution_count": 15,
   "id": "1e43a5a5-c51f-4d88-a22d-338076133a92",
   "metadata": {},
   "outputs": [],
   "source": [
    "train_meta = train_meta.nan_to_num()"
   ]
  },
  {
   "cell_type": "code",
   "execution_count": 16,
   "id": "bfaa283a-aacb-48e0-9af3-24f5a80416a2",
   "metadata": {},
   "outputs": [],
   "source": [
    "torch.save(train_meta, 'data/processed/meta_train_103-114.pt')"
   ]
  },
  {
   "cell_type": "code",
   "execution_count": 18,
   "id": "5142ee48-9f46-4f15-b5ff-770544f6ef07",
   "metadata": {},
   "outputs": [],
   "source": [
    "test_meta = metadata.loc[metadata['cong'] == 115][['Cosponsr', 'Majority', 'Gender', 'republican', 'independent']]\n",
    "test_meta = torch.tensor(test_meta.to_numpy())\n",
    "test_meta = test_meta.nan_to_num()\n",
    "torch.save(test_meta, 'data/processed/meta_test_115.pt')"
   ]
  },
  {
   "cell_type": "code",
   "execution_count": null,
   "id": "b1a44170-31dc-40af-a669-178545f4ad34",
   "metadata": {},
   "outputs": [],
   "source": [
    "#labels_train = torch.load(path + 'labels_train_103-114.pt')"
   ]
  },
  {
   "cell_type": "code",
   "execution_count": null,
   "id": "68293857-b101-49eb-9fc4-f214f50027d0",
   "metadata": {},
   "outputs": [],
   "source": [
    "(torch.tensor(train_meta['status'].to_numpy()) == labels_train).sum()"
   ]
  },
  {
   "cell_type": "code",
   "execution_count": null,
   "id": "29c928a1-6cfe-4345-a05b-e4cca92918d9",
   "metadata": {},
   "outputs": [],
   "source": [
    "train_meta"
   ]
  },
  {
   "cell_type": "markdown",
   "id": "b4f01d41",
   "metadata": {
    "id": "b4f01d41",
    "tags": []
   },
   "source": [
    "## Read in and prepare data"
   ]
  },
  {
   "cell_type": "code",
   "execution_count": 5,
   "id": "bc39a560-3e70-4e5f-8fbb-44547f23e6be",
   "metadata": {},
   "outputs": [
    {
     "data": {
      "text/plain": [
       "torch.Size([16560, 1, 87, 384])"
      ]
     },
     "execution_count": 5,
     "metadata": {},
     "output_type": "execute_result"
    }
   ],
   "source": [
    "bert_train.shape"
   ]
  },
  {
   "cell_type": "code",
   "execution_count": 9,
   "id": "29e0936e-b5de-4159-8679-dbb47c575838",
   "metadata": {},
   "outputs": [
    {
     "data": {
      "text/plain": [
       "tensor(716)"
      ]
     },
     "execution_count": 9,
     "metadata": {},
     "output_type": "execute_result"
    }
   ],
   "source": [
    "labels_train[labels_train==1].sum()"
   ]
  },
  {
   "cell_type": "code",
   "execution_count": null,
   "id": "6156afc6-5117-421f-a621-8e6f06f63118",
   "metadata": {},
   "outputs": [],
   "source": []
  },
  {
   "cell_type": "code",
   "execution_count": 16,
   "id": "bf0258f7-315a-44dc-a083-33868a2c498a",
   "metadata": {},
   "outputs": [
    {
     "ename": "NameError",
     "evalue": "name 'bert_val' is not defined",
     "output_type": "error",
     "traceback": [
      "\u001b[0;31m---------------------------------------------------------------------------\u001b[0m",
      "\u001b[0;31mNameError\u001b[0m                                 Traceback (most recent call last)",
      "\u001b[0;32m/tmp/ipykernel_3000/3163882724.py\u001b[0m in \u001b[0;36m<module>\u001b[0;34m\u001b[0m\n\u001b[1;32m     19\u001b[0m \u001b[0;31m#Load into training and validation dataloaders\u001b[0m\u001b[0;34m\u001b[0m\u001b[0;34m\u001b[0m\u001b[0m\n\u001b[1;32m     20\u001b[0m \u001b[0mtrain_dataloader\u001b[0m \u001b[0;34m=\u001b[0m \u001b[0mdataloader\u001b[0m\u001b[0;34m(\u001b[0m\u001b[0mbert_train\u001b[0m\u001b[0;34m,\u001b[0m \u001b[0mlabels_train\u001b[0m\u001b[0;34m,\u001b[0m\u001b[0mmeta_train\u001b[0m\u001b[0;34m,\u001b[0m \u001b[0mbatch_size\u001b[0m\u001b[0;34m=\u001b[0m\u001b[0;36m16\u001b[0m\u001b[0;34m)\u001b[0m\u001b[0;34m\u001b[0m\u001b[0;34m\u001b[0m\u001b[0m\n\u001b[0;32m---> 21\u001b[0;31m \u001b[0mvalid_dataloader\u001b[0m \u001b[0;34m=\u001b[0m \u001b[0mdataloader\u001b[0m\u001b[0;34m(\u001b[0m\u001b[0mbert_val\u001b[0m\u001b[0;34m,\u001b[0m \u001b[0mlabels_val\u001b[0m\u001b[0;34m,\u001b[0m\u001b[0mmeta_val\u001b[0m\u001b[0;34m,\u001b[0m \u001b[0mbatch_size\u001b[0m\u001b[0;34m=\u001b[0m\u001b[0;36m16\u001b[0m\u001b[0;34m)\u001b[0m\u001b[0;34m\u001b[0m\u001b[0;34m\u001b[0m\u001b[0m\n\u001b[0m\u001b[1;32m     22\u001b[0m \u001b[0;31m#del bert_train, bert_val, labels_train, labels_val\u001b[0m\u001b[0;34m\u001b[0m\u001b[0;34m\u001b[0m\u001b[0m\n",
      "\u001b[0;31mNameError\u001b[0m: name 'bert_val' is not defined"
     ]
    }
   ],
   "source": [
    "path = 'data/processed/'\n",
    "#Read tensors\n",
    "bert_train = torch.load(path + 'bert_train_103-114.pt')\n",
    "meta_train = torch.load(path + 'meta_train_103-114.pt')\n",
    "labels_train = torch.load(path + 'labels_train_103-114.pt')\n",
    "\n",
    "#Stratified split into training and validation\n",
    "splits = straitified_train_validation_split(bert_train,\n",
    "                                           meta_train, \n",
    "                                           labels_train\n",
    "                                             )\n",
    "\n",
    "#Calculate class weights for loss function because of unbalance\n",
    "class_weights=compute_class_weight('balanced', classes = np.unique(labels_train.numpy()),\n",
    "                                   y = labels_train.numpy())\n",
    "\n",
    "class_weights=torch.tensor(class_weights,dtype=torch.float)\n",
    "\n",
    "#Load into training and validation dataloaders\n",
    "train_dataloader = dataloader(bert_train, labels_train,meta_train, batch_size=16)\n",
    "valid_dataloader = dataloader(bert_val, labels_val,meta_val, batch_size=16)\n",
    "#del bert_train, bert_val, labels_train, labels_val"
   ]
  },
  {
   "cell_type": "markdown",
   "id": "f69d5f05",
   "metadata": {
    "id": "f69d5f05",
    "tags": []
   },
   "source": [
    "## CNN for the N x S x K embeddings"
   ]
  },
  {
   "cell_type": "code",
   "execution_count": null,
   "id": "69ab9655-e7f9-44de-a818-2eba0bc6eea0",
   "metadata": {},
   "outputs": [],
   "source": [
    "train_dataloader.dataset.meta"
   ]
  },
  {
   "cell_type": "code",
   "execution_count": 8,
   "id": "644c4e0a",
   "metadata": {
    "colab": {
     "base_uri": "https://localhost:8080/"
    },
    "executionInfo": {
     "elapsed": 197,
     "status": "ok",
     "timestamp": 1638638329442,
     "user": {
      "displayName": "August Lohse",
      "photoUrl": "https://lh3.googleusercontent.com/a/default-user=s64",
      "userId": "07860114388602856212"
     },
     "user_tz": -60
    },
    "id": "644c4e0a",
    "outputId": "103c2d4b-924e-4fcd-94bb-260a21ec82d9"
   },
   "outputs": [
    {
     "name": "stderr",
     "output_type": "stream",
     "text": [
      "/home/matiasp/miniconda3/envs/pyenv/lib/python3.9/site-packages/torch/nn/modules/lazy.py:178: UserWarning: Lazy modules are a new feature under heavy development so changes to the API or functionality can happen at any moment.\n",
      "  warnings.warn('Lazy modules are a new feature under heavy development '\n"
     ]
    },
    {
     "name": "stdout",
     "output_type": "stream",
     "text": [
      "BillNet(\n",
      "  (conv1): Conv2d(1, 64, kernel_size=(3, 3), stride=(1, 1), padding=(1, 1))\n",
      "  (batchnorm1): BatchNorm2d(64, eps=1e-05, momentum=0.1, affine=True, track_running_stats=True)\n",
      "  (conv2): Conv2d(64, 32, kernel_size=(3, 3), stride=(1, 1))\n",
      "  (batchnorm2): BatchNorm2d(32, eps=1e-05, momentum=0.1, affine=True, track_running_stats=True)\n",
      "  (conv3): Conv2d(32, 16, kernel_size=(3, 3), stride=(1, 1))\n",
      "  (pool): MaxPool2d(kernel_size=2, stride=2, padding=0, dilation=1, ceil_mode=False)\n",
      "  (fc1): LazyLinear(in_features=0, out_features=120, bias=True)\n",
      "  (fc2): Linear(in_features=120, out_features=2, bias=True)\n",
      ")\n"
     ]
    }
   ],
   "source": [
    "#Define network, optimizer and criterion\n",
    "net = BillNet(num_classes = 2)\n",
    "net = net.cuda()\n",
    "\n",
    "optimizer = optim.Adam(net.parameters(), lr=0.001, \n",
    "                       weight_decay=0.01)\n",
    "criterion = nn.CrossEntropyLoss(weight=class_weights.cuda())\n",
    "#criterion = nn.CrossEntropyLoss(weight=class_weights)\n",
    "# CUDA for PyTorch\n",
    "use_cuda = torch.cuda.is_available()\n",
    "device = torch.device(\"cuda:0\" if use_cuda else \"cpu\")\n",
    "torch.backends.cudnn.benchmark = True\n",
    "\n",
    "print(net)"
   ]
  },
  {
   "cell_type": "code",
   "execution_count": 2,
   "id": "e6786793",
   "metadata": {},
   "outputs": [
    {
     "ename": "NameError",
     "evalue": "name 'net' is not defined",
     "output_type": "error",
     "traceback": [
      "\u001b[0;31m---------------------------------------------------------------------------\u001b[0m",
      "\u001b[0;31mNameError\u001b[0m                                 Traceback (most recent call last)",
      "\u001b[0;32m/tmp/ipykernel_3000/1104512861.py\u001b[0m in \u001b[0;36m<module>\u001b[0;34m\u001b[0m\n\u001b[1;32m      8\u001b[0m     \u001b[0mtrain_preds\u001b[0m\u001b[0;34m,\u001b[0m \u001b[0mtrain_targs\u001b[0m \u001b[0;34m=\u001b[0m \u001b[0;34m[\u001b[0m\u001b[0;34m]\u001b[0m\u001b[0;34m,\u001b[0m \u001b[0;34m[\u001b[0m\u001b[0;34m]\u001b[0m\u001b[0;34m\u001b[0m\u001b[0;34m\u001b[0m\u001b[0m\n\u001b[1;32m      9\u001b[0m     \u001b[0mcur_loss\u001b[0m \u001b[0;34m=\u001b[0m \u001b[0;36m0.0\u001b[0m\u001b[0;34m\u001b[0m\u001b[0;34m\u001b[0m\u001b[0m\n\u001b[0;32m---> 10\u001b[0;31m     \u001b[0mnet\u001b[0m\u001b[0;34m.\u001b[0m\u001b[0mtrain\u001b[0m\u001b[0;34m(\u001b[0m\u001b[0;34m)\u001b[0m\u001b[0;34m\u001b[0m\u001b[0;34m\u001b[0m\u001b[0m\n\u001b[0m\u001b[1;32m     11\u001b[0m     \u001b[0mtraining_loop\u001b[0m \u001b[0;34m=\u001b[0m \u001b[0mtqdm\u001b[0m\u001b[0;34m(\u001b[0m\u001b[0miter\u001b[0m\u001b[0;34m(\u001b[0m\u001b[0mtrain_dataloader\u001b[0m\u001b[0;34m)\u001b[0m\u001b[0;34m,\u001b[0m \u001b[0mleave\u001b[0m\u001b[0;34m=\u001b[0m\u001b[0;32mTrue\u001b[0m\u001b[0;34m)\u001b[0m\u001b[0;34m\u001b[0m\u001b[0;34m\u001b[0m\u001b[0m\n\u001b[1;32m     12\u001b[0m     \u001b[0;32mfor\u001b[0m \u001b[0mlocal_emb\u001b[0m\u001b[0;34m,\u001b[0m \u001b[0mlocal_labels\u001b[0m\u001b[0;34m,\u001b[0m \u001b[0mlocal_meta\u001b[0m \u001b[0;32min\u001b[0m \u001b[0mtraining_loop\u001b[0m\u001b[0;34m:\u001b[0m\u001b[0;34m\u001b[0m\u001b[0;34m\u001b[0m\u001b[0m\n",
      "\u001b[0;31mNameError\u001b[0m: name 'net' is not defined"
     ]
    }
   ],
   "source": [
    "max_epochs = 6\n",
    "train_acc = []\n",
    "losses = []\n",
    "val_recall_scores = []\n",
    "# Loop over epochs\n",
    "for epoch in range(max_epochs):\n",
    "    # Training\n",
    "    train_preds, train_targs = [], []\n",
    "    cur_loss = 0.0\n",
    "    net.train()\n",
    "    training_loop = tqdm(iter(train_dataloader), leave=True)\n",
    "    for local_emb, local_labels, local_meta in training_loop:\n",
    "        # Zero gradient\n",
    "        optimizer.zero_grad()\n",
    "        # Transfer to GPU\n",
    "        local_emb = local_emb.to(device, dtype=torch.float)\n",
    "        local_meta = local_meta.to(device, dtype=torch.float)\n",
    "        local_labels = local_labels.to(device, dtype=torch.long)\n",
    "        # zero the parameter gradients\n",
    "       \n",
    "        # Model computations\n",
    "        output = net(local_emb, local_meta)\n",
    "        batch_loss = criterion(output, local_labels)\n",
    "        batch_loss.backward()\n",
    "        optimizer.step()\n",
    "        training_loop.set_description(f'Epoch {epoch+1}')\n",
    "        training_loop.set_postfix(loss=batch_loss.item())\n",
    "        cur_loss += batch_loss\n",
    "        # Get predictions\n",
    "        predicted = torch.max(output, 1)[1]\n",
    "        train_targs += list(local_labels.cpu().numpy())\n",
    "        train_preds += list(predicted.data.cpu().numpy())\n",
    "    \n",
    "    print('-----------Training Metrics-----------')\n",
    "    print('Accuracy: {}'.format(accuracy_score(train_targs, train_preds)))\n",
    "    print('F1: {}'.format(f1_score(train_targs, train_preds)))\n",
    "    print('Precision: {}'.format(precision_score(train_targs, train_preds)))\n",
    "    print('Recall: {}'.format(recall_score(train_targs, train_preds)))\n",
    "    print('Confusion Matrix:')\n",
    "    print(confusion_matrix(train_targs, train_preds))\n",
    "\n",
    "    # Validation\n",
    "    net.eval()\n",
    "    val_preds, val_targs = [], []\n",
    "    probas = []\n",
    "    with torch.no_grad():\n",
    "        for local_emb, local_labels, local_meta in valid_dataloader:\n",
    "            local_emb = local_emb.to(device, dtype=torch.float)\n",
    "            local_meta = local_meta.to(device, dtype=torch.float)\n",
    "            local_labels =  local_labels.to(device, dtype=torch.long)\n",
    "            outputs = net(local_emb, local_meta)\n",
    "            predicted = torch.max(outputs.data, 1)[1]\n",
    "            probas += list(outputs.data.cpu().numpy()[:,1])\n",
    "            val_targs += list(local_labels.cpu().numpy())\n",
    "            val_preds += list(predicted.data.cpu().numpy())\n",
    "    \n",
    "    #lr_fpr, lr_tpr, _ = roc_curve(val_targs, probas)\n",
    "    print('-----------Validation Metrics-----------')\n",
    "    print('Accuracy: {}'.format(accuracy_score(val_targs, val_preds)))\n",
    "    print('F1: {}'.format(f1_score(val_targs, val_preds)))\n",
    "    print('Precision: {}'.format(precision_score(val_targs, val_preds)))\n",
    "    print('Recall: {}'.format(recall_score(val_targs, val_preds)))\n",
    "    print('Confusion Matrix:')\n",
    "    print(confusion_matrix(val_targs, val_preds))\n",
    "    print('-' * 66)"
   ]
  },
  {
   "cell_type": "code",
   "execution_count": null,
   "id": "70c13833",
   "metadata": {},
   "outputs": [],
   "source": [
    "lr_precision, lr_recall, _ = precision_recall_curve(val_targs, probas)"
   ]
  },
  {
   "cell_type": "code",
   "execution_count": null,
   "id": "35379006",
   "metadata": {},
   "outputs": [],
   "source": [
    "\n",
    "with plt.style.context('science'):\n",
    "    fig, axs = plt.subplots(ncols = 2, dpi = 500, figsize=(8,3))\n",
    "    ns_probs = [0 for _ in range(len(val_targs))]\n",
    "    ns_fpr, ns_tpr, _ = roc_curve(val_targs, ns_probs)\n",
    "    #with plt.style.context('science'):\n",
    "    axs[0].plot(lr_fpr, lr_tpr, 'ko--', markersize=2, label='Prediction')\n",
    "    axs[0].plot(ns_fpr, ns_tpr, linestyle='--', label='Random Classifier')\n",
    "    axs[0].set_xlabel('False Positive Rate')\n",
    "    axs[0].set_ylabel('True Positive Rate')\n",
    "    axs[0].set_title('ROC')\n",
    "    axs[0].legend()\n",
    "\n",
    "    axs[1].plot(lr_precision, lr_recall, 'ko--', markersize=2, label='Prediction')\n",
    "    no_skill = len([t for t in val_targs if t ==1]) / len(val_targs)\n",
    "    axs[1].plot([0, 1], [no_skill, no_skill], linestyle='--', label='Random Classifier')\n",
    "    axs[1].set_xlabel('Recall')\n",
    "    axs[1].set_ylabel('Precission')\n",
    "    axs[1].set_title('Precision-Recall')\n",
    "    axs[1].legend()\n",
    "plt.tight_layout()\n",
    "plt.savefig('metrics.pdf', format='pdf')"
   ]
  },
  {
   "cell_type": "code",
   "execution_count": null,
   "id": "ded7028f",
   "metadata": {},
   "outputs": [],
   "source": [
    "from sklearn.metrics import roc_auc_score\n"
   ]
  },
  {
   "cell_type": "code",
   "execution_count": null,
   "id": "45d45c5b",
   "metadata": {},
   "outputs": [],
   "source": [
    "roc_auc_score(train_targs, train_preds)"
   ]
  },
  {
   "cell_type": "code",
   "execution_count": null,
   "id": "8fb0495f",
   "metadata": {},
   "outputs": [],
   "source": [
    "from sklearn.metrics import confusion_matrix\n",
    "# Confusion matrix\n",
    "conf_mat=confusion_matrix(val_targs, val_preds)\n",
    "print(conf_mat)\n"
   ]
  },
  {
   "cell_type": "code",
   "execution_count": null,
   "id": "07878e5c",
   "metadata": {},
   "outputs": [],
   "source": [
    "#torch.save(net.state_dict(), 'trained_model.obj')\n",
    "#net = Net(num_classes = 2)\n",
    "#net.load_state_dict(torch.load('trained_model.obj'))"
   ]
  },
  {
   "cell_type": "markdown",
   "id": "cb77230a-3317-46de-a815-bace4c4e667d",
   "metadata": {},
   "source": [
    "## FNN"
   ]
  },
  {
   "cell_type": "code",
   "execution_count": 33,
   "id": "a387b69e-1f27-470a-a25f-3690b9c82a3f",
   "metadata": {},
   "outputs": [
    {
     "name": "stdout",
     "output_type": "stream",
     "text": [
      "BillNet_FFNN(\n",
      "  (fc1): Linear(in_features=389, out_features=256, bias=True)\n",
      "  (fc2): Linear(in_features=256, out_features=128, bias=True)\n",
      "  (fc3): Linear(in_features=128, out_features=2, bias=True)\n",
      ")\n"
     ]
    }
   ],
   "source": [
    "from model import BillNet_FFNN\n",
    "net = BillNet_FFNN(in_dim = 389, num_classes = 2)\n",
    "net = net.cuda()\n",
    "optimizer = optim.Adam(net.parameters(), lr=0.001, \n",
    "                        weight_decay=0.01)\n",
    "criterion = nn.CrossEntropyLoss(weight=class_weights.cuda())\n",
    "#criterion = nn.CrossEntropyLoss(weight=class_weights)\n",
    "# CUDA for PyTorch\n",
    "use_cuda = torch.cuda.is_available()\n",
    "device = torch.device(\"cuda:0\" if use_cuda else \"cpu\")\n",
    "torch.backends.cudnn.benchmark = True\n",
    "\n",
    "print(net)"
   ]
  },
  {
   "cell_type": "code",
   "execution_count": 38,
   "id": "242f4abd-2bff-49e2-96df-258b4de9b1fe",
   "metadata": {},
   "outputs": [
    {
     "name": "stderr",
     "output_type": "stream",
     "text": [
      "  0%|                                                                                                                                                                | 0/1035 [00:00<?, ?it/s]\n"
     ]
    },
    {
     "ename": "IndexError",
     "evalue": "Dimension out of range (expected to be in range of [-2, 1], but got 2)",
     "output_type": "error",
     "traceback": [
      "\u001b[0;31m---------------------------------------------------------------------------\u001b[0m",
      "\u001b[0;31mIndexError\u001b[0m                                Traceback (most recent call last)",
      "\u001b[0;32m/tmp/ipykernel_56449/3238322750.py\u001b[0m in \u001b[0;36m<module>\u001b[0;34m\u001b[0m\n\u001b[1;32m     12\u001b[0m     \u001b[0;32mfor\u001b[0m \u001b[0mlocal_emb\u001b[0m\u001b[0;34m,\u001b[0m \u001b[0mlocal_labels\u001b[0m\u001b[0;34m,\u001b[0m \u001b[0mlocal_meta\u001b[0m \u001b[0;32min\u001b[0m \u001b[0mtraining_loop\u001b[0m\u001b[0;34m:\u001b[0m\u001b[0;34m\u001b[0m\u001b[0;34m\u001b[0m\u001b[0m\n\u001b[1;32m     13\u001b[0m         \u001b[0mlocal_emb\u001b[0m \u001b[0;34m=\u001b[0m \u001b[0mlocal_emb\u001b[0m\u001b[0;34m[\u001b[0m\u001b[0;34m~\u001b[0m\u001b[0mtorch\u001b[0m\u001b[0;34m.\u001b[0m\u001b[0mall\u001b[0m\u001b[0;34m(\u001b[0m\u001b[0mlocal_emb\u001b[0m \u001b[0;34m==\u001b[0m \u001b[0;36m0\u001b[0m\u001b[0;34m,\u001b[0m \u001b[0maxis\u001b[0m\u001b[0;34m=\u001b[0m\u001b[0;36m3\u001b[0m\u001b[0;34m)\u001b[0m\u001b[0;34m]\u001b[0m\u001b[0;34m\u001b[0m\u001b[0;34m\u001b[0m\u001b[0m\n\u001b[0;32m---> 14\u001b[0;31m         \u001b[0mlocal_emb\u001b[0m \u001b[0;34m=\u001b[0m \u001b[0mtorch\u001b[0m\u001b[0;34m.\u001b[0m\u001b[0mmean\u001b[0m\u001b[0;34m(\u001b[0m\u001b[0mlocal_emb\u001b[0m\u001b[0;34m,\u001b[0m\u001b[0maxis\u001b[0m \u001b[0;34m=\u001b[0m \u001b[0;36m2\u001b[0m\u001b[0;34m)\u001b[0m \u001b[0;31m#take the mean of the sentences in each document (dim 2 (with 0 indexing))\u001b[0m\u001b[0;34m\u001b[0m\u001b[0;34m\u001b[0m\u001b[0m\n\u001b[0m\u001b[1;32m     15\u001b[0m         \u001b[0mlocal_emb\u001b[0m \u001b[0;34m=\u001b[0m \u001b[0mtorch\u001b[0m\u001b[0;34m.\u001b[0m\u001b[0msqueeze\u001b[0m\u001b[0;34m(\u001b[0m\u001b[0mlocal_emb\u001b[0m\u001b[0;34m)\u001b[0m \u001b[0;31m#remove the channel dim we put there for CNN\u001b[0m\u001b[0;34m\u001b[0m\u001b[0;34m\u001b[0m\u001b[0m\n\u001b[1;32m     16\u001b[0m         \u001b[0;31m# Zero gradient\u001b[0m\u001b[0;34m\u001b[0m\u001b[0;34m\u001b[0m\u001b[0m\n",
      "\u001b[0;31mIndexError\u001b[0m: Dimension out of range (expected to be in range of [-2, 1], but got 2)"
     ]
    }
   ],
   "source": [
    "max_epochs = 6\n",
    "train_acc = []\n",
    "losses = []\n",
    "val_recall_scores = []\n",
    "# Loop over epochs\n",
    "for epoch in range(max_epochs):\n",
    "    # Training\n",
    "    train_preds, train_targs = [], []\n",
    "    cur_loss = 0.0\n",
    "    net.train()\n",
    "    training_loop = tqdm(iter(train_dataloader), leave=True)\n",
    "    for local_emb, local_labels, local_meta in training_loop:\n",
    "        local_emb = local_emb[~torch.all(local_emb == 0, axis=2)]\n",
    "        local_emb = torch.mean(local_emb,axis = 2) #take the mean of the sentences in each document (dim 2 (with 0 indexing))\n",
    "        local_emb = torch.squeeze(local_emb) #remove the channel dim we put there for CNN\n",
    "        # Zero gradient\n",
    "        optimizer.zero_grad()\n",
    "        # Transfer to GPU\n",
    "        local_emb = local_emb.to(device, dtype=torch.float)\n",
    "        local_meta = local_meta.to(device, dtype=torch.float)\n",
    "        local_labels = local_labels.to(device, dtype=torch.long)\n",
    "        # zero the parameter gradients\n",
    "       \n",
    "        # Model computations\n",
    "        output = net(local_emb, local_meta)\n",
    "        batch_loss = criterion(output, local_labels)\n",
    "        batch_loss.backward()\n",
    "        optimizer.step()\n",
    "        training_loop.set_description(f'Epoch {epoch+1}')\n",
    "        training_loop.set_postfix(loss=batch_loss.item())\n",
    "        cur_loss += batch_loss\n",
    "        # Get predictions\n",
    "        predicted = torch.max(output, 1)[1]\n",
    "        train_targs += list(local_labels.cpu().numpy())\n",
    "        train_preds += list(predicted.data.cpu().numpy())\n",
    "    \n",
    "    print('-----------Training Metrics-----------')\n",
    "    print('Accuracy: {}'.format(accuracy_score(train_targs, train_preds)))\n",
    "    print('F1: {}'.format(f1_score(train_targs, train_preds)))\n",
    "    print('Precision: {}'.format(precision_score(train_targs, train_preds)))\n",
    "    print('Recall: {}'.format(recall_score(train_targs, train_preds)))\n",
    "    print('Confusion Matrix:')\n",
    "    print(confusion_matrix(train_targs, train_preds))\n",
    "\n",
    "    # Validation\n",
    "    net.eval()\n",
    "    val_preds, val_targs = [], []\n",
    "    probas = []\n",
    "    with torch.no_grad():\n",
    "        for local_emb, local_labels, local_meta in valid_dataloader:\n",
    "            \n",
    "            local_emb = torch.mean(local_emb,axis = 2) #take the mean of the sentences in each document (dim 2 (with 0 indexing))\n",
    "            local_emb = torch.squeeze(local_emb) #remove the channel dim we put there for CNN\n",
    "            local_emb = local_emb.to(device, dtype=torch.float)\n",
    "            local_meta = local_meta.to(device, dtype=torch.float)\n",
    "            local_labels =  local_labels.to(device, dtype=torch.long)\n",
    "            outputs = net(local_emb, local_meta)\n",
    "            predicted = torch.max(outputs.data, 1)[1]\n",
    "            probas += list(outputs.data.cpu().numpy()[:,1])\n",
    "            val_targs += list(local_labels.cpu().numpy())\n",
    "            val_preds += list(predicted.data.cpu().numpy())\n",
    "    \n",
    "    #lr_fpr, lr_tpr, _ = roc_curve(val_targs, probas)\n",
    "    print('-----------Validation Metrics-----------')\n",
    "    print('Accuracy: {}'.format(accuracy_score(val_targs, val_preds)))\n",
    "    print('F1: {}'.format(f1_score(val_targs, val_preds)))\n",
    "    print('Precision: {}'.format(precision_score(val_targs, val_preds)))\n",
    "    print('Recall: {}'.format(recall_score(val_targs, val_preds)))\n",
    "    print('Confusion Matrix:')\n",
    "    print(confusion_matrix(val_targs, val_preds))\n",
    "    print('-' * 66)\n",
    "\n"
   ]
  },
  {
   "cell_type": "markdown",
   "id": "856228cb",
   "metadata": {
    "tags": []
   },
   "source": [
    "## Test data"
   ]
  },
  {
   "cell_type": "code",
   "execution_count": null,
   "id": "50b5a8f2",
   "metadata": {},
   "outputs": [],
   "source": [
    "#OLD\n",
    "#import pandas as pd\n",
    "\n",
    "#test_dataset = np.load('')\n",
    "#test_dataset = test_dataset[:,None,:, :]\n",
    "#test_labels = pd.read_pickle('data/processed/test_dat.pkl')\n",
    "#bill_status = pd.read_csv('data/processed/bill_status.csv').rename({'bill':'bill_id'}, axis=1)\n",
    "#test_labels = test_labels.merge(bill_status, on = 'bill_id', how='left')['status'].to_numpy()"
   ]
  },
  {
   "cell_type": "code",
   "execution_count": 22,
   "id": "4f74becb",
   "metadata": {},
   "outputs": [],
   "source": [
    "test_dataset = torch.load('data/processed/bert_test_115.pt')\n",
    "test_labels = torch.load('data/processed/labels_test_115.pt')\n",
    "test_meta = torch.load('data/processed/meta_test_115.pt')"
   ]
  },
  {
   "cell_type": "code",
   "execution_count": 23,
   "id": "aa3cc49c",
   "metadata": {},
   "outputs": [],
   "source": [
    "test_dataloader = dataloader(test_dataset, test_meta, test_labels, batch_size=64)"
   ]
  },
  {
   "cell_type": "code",
   "execution_count": 28,
   "id": "e2b22598",
   "metadata": {},
   "outputs": [],
   "source": [
    "state = torch.load('trained_models/CNN inc. meta-epoch=02-val_loss=0.13.ckpt')"
   ]
  },
  {
   "cell_type": "code",
   "execution_count": 29,
   "id": "75b8c22a-5480-44bc-94bd-77d06664433e",
   "metadata": {},
   "outputs": [],
   "source": [
    "from models_lightning import BillNet_CNN"
   ]
  },
  {
   "cell_type": "code",
   "execution_count": 32,
   "id": "a71b4c50-978f-462f-be22-9ad31fdf3839",
   "metadata": {},
   "outputs": [
    {
     "name": "stderr",
     "output_type": "stream",
     "text": [
      "/home/matiasp/miniconda3/envs/pyenv/lib/python3.9/site-packages/torch/nn/modules/lazy.py:178: UserWarning: Lazy modules are a new feature under heavy development so changes to the API or functionality can happen at any moment.\n",
      "  warnings.warn('Lazy modules are a new feature under heavy development '\n"
     ]
    }
   ],
   "source": [
    "net = BillNet_CNN()"
   ]
  },
  {
   "cell_type": "code",
   "execution_count": 11,
   "id": "7a074baf-5cee-41e2-aefd-9e784ca00d61",
   "metadata": {},
   "outputs": [],
   "source": [
    "from models import BillNet_CNN, BillNet_FNN"
   ]
  },
  {
   "cell_type": "code",
   "execution_count": 15,
   "id": "ab79fd43-442a-4754-9ee4-b2270de18341",
   "metadata": {},
   "outputs": [
    {
     "data": {
      "text/plain": [
       "   | Name       | Type             | Params\n",
       "-------------------------------------------------\n",
       "0  | criterion  | CrossEntropyLoss | 0     \n",
       "1  | conv1      | Conv2d           | 640   \n",
       "2  | batchnorm1 | BatchNorm2d      | 128   \n",
       "3  | conv2      | Conv2d           | 18.5 K\n",
       "4  | batchnorm2 | BatchNorm2d      | 64    \n",
       "5  | conv3      | Conv2d           | 4.6 K \n",
       "6  | pool       | MaxPool2d        | 0     \n",
       "7  | dropout2d  | Dropout2d        | 0     \n",
       "8  | dropout    | Dropout          | 0     \n",
       "9  | fc1        | LazyLinear       | 795 K \n",
       "10 | fc2        | Linear           | 242   \n",
       "-------------------------------------------------\n",
       "819 K     Trainable params\n",
       "0         Non-trainable params\n",
       "819 K     Total params\n",
       "3.277     Total estimated model params size (MB)"
      ]
     },
     "execution_count": 15,
     "metadata": {},
     "output_type": "execute_result"
    }
   ],
   "source": [
    "my_model = BillNet_CNN()\n",
    "chk_path = \"trained_models/CNN-epoch=08-val_loss=0.13.ckpt\"\n",
    "net = my_model.load_from_checkpoint(chk_path, strict=False)\n",
    "net.summarize()"
   ]
  },
  {
   "cell_type": "code",
   "execution_count": 16,
   "id": "d9169ef2-2d6e-40b7-a7fe-980955726a43",
   "metadata": {},
   "outputs": [],
   "source": [
    "from data_utils import BillNetDataModule"
   ]
  },
  {
   "cell_type": "code",
   "execution_count": 26,
   "id": "d584d26b-cdf9-4311-8ec7-66a87f099983",
   "metadata": {},
   "outputs": [
    {
     "data": {
      "text/html": [
       "<div>\n",
       "<style scoped>\n",
       "    .dataframe tbody tr th:only-of-type {\n",
       "        vertical-align: middle;\n",
       "    }\n",
       "\n",
       "    .dataframe tbody tr th {\n",
       "        vertical-align: top;\n",
       "    }\n",
       "\n",
       "    .dataframe thead th {\n",
       "        text-align: right;\n",
       "    }\n",
       "</style>\n",
       "<table border=\"1\" class=\"dataframe\">\n",
       "  <thead>\n",
       "    <tr style=\"text-align: right;\">\n",
       "      <th></th>\n",
       "      <th>bill_id</th>\n",
       "      <th>sentences</th>\n",
       "      <th>status</th>\n",
       "      <th>cong</th>\n",
       "    </tr>\n",
       "  </thead>\n",
       "  <tbody>\n",
       "    <tr>\n",
       "      <th>0</th>\n",
       "      <td>103_hr1002</td>\n",
       "      <td>[This Act may be cited as the \"Public Housing ...</td>\n",
       "      <td>0</td>\n",
       "      <td>103</td>\n",
       "    </tr>\n",
       "    <tr>\n",
       "      <th>1</th>\n",
       "      <td>103_hr1003</td>\n",
       "      <td>[This Act may be cited as the \"Targeted Econom...</td>\n",
       "      <td>0</td>\n",
       "      <td>103</td>\n",
       "    </tr>\n",
       "    <tr>\n",
       "      <th>2</th>\n",
       "      <td>103_hr1005</td>\n",
       "      <td>[The Administrator shall conduct a study of St...</td>\n",
       "      <td>0</td>\n",
       "      <td>103</td>\n",
       "    </tr>\n",
       "    <tr>\n",
       "      <th>3</th>\n",
       "      <td>103_hr1007</td>\n",
       "      <td>[Medicaid Benefits Continued for 36 Months for...</td>\n",
       "      <td>0</td>\n",
       "      <td>103</td>\n",
       "    </tr>\n",
       "    <tr>\n",
       "      <th>4</th>\n",
       "      <td>103_hr1013</td>\n",
       "      <td>[This Act may be cited as the \"Expedited Consi...</td>\n",
       "      <td>0</td>\n",
       "      <td>103</td>\n",
       "    </tr>\n",
       "    <tr>\n",
       "      <th>...</th>\n",
       "      <td>...</td>\n",
       "      <td>...</td>\n",
       "      <td>...</td>\n",
       "      <td>...</td>\n",
       "    </tr>\n",
       "    <tr>\n",
       "      <th>22110</th>\n",
       "      <td>115_s875</td>\n",
       "      <td>[In this section the term \"Administrative Proc...</td>\n",
       "      <td>0</td>\n",
       "      <td>115</td>\n",
       "    </tr>\n",
       "    <tr>\n",
       "      <th>22111</th>\n",
       "      <td>115_s878</td>\n",
       "      <td>[Section 222 of the Communications Act of 1934...</td>\n",
       "      <td>0</td>\n",
       "      <td>115</td>\n",
       "    </tr>\n",
       "    <tr>\n",
       "      <th>22112</th>\n",
       "      <td>115_s914</td>\n",
       "      <td>[This Act may be cited as the \"Safe Drinking W...</td>\n",
       "      <td>0</td>\n",
       "      <td>115</td>\n",
       "    </tr>\n",
       "    <tr>\n",
       "      <th>22113</th>\n",
       "      <td>115_s960</td>\n",
       "      <td>[This Act may be cited as the \"Preserving Data...</td>\n",
       "      <td>0</td>\n",
       "      <td>115</td>\n",
       "    </tr>\n",
       "    <tr>\n",
       "      <th>22114</th>\n",
       "      <td>115_s983</td>\n",
       "      <td>[This Act may be cited as the \"Helping to Enco...</td>\n",
       "      <td>0</td>\n",
       "      <td>115</td>\n",
       "    </tr>\n",
       "  </tbody>\n",
       "</table>\n",
       "<p>22115 rows × 4 columns</p>\n",
       "</div>"
      ],
      "text/plain": [
       "          bill_id                                          sentences  status  \\\n",
       "0      103_hr1002  [This Act may be cited as the \"Public Housing ...       0   \n",
       "1      103_hr1003  [This Act may be cited as the \"Targeted Econom...       0   \n",
       "2      103_hr1005  [The Administrator shall conduct a study of St...       0   \n",
       "3      103_hr1007  [Medicaid Benefits Continued for 36 Months for...       0   \n",
       "4      103_hr1013  [This Act may be cited as the \"Expedited Consi...       0   \n",
       "...           ...                                                ...     ...   \n",
       "22110    115_s875  [In this section the term \"Administrative Proc...       0   \n",
       "22111    115_s878  [Section 222 of the Communications Act of 1934...       0   \n",
       "22112    115_s914  [This Act may be cited as the \"Safe Drinking W...       0   \n",
       "22113    115_s960  [This Act may be cited as the \"Preserving Data...       0   \n",
       "22114    115_s983  [This Act may be cited as the \"Helping to Enco...       0   \n",
       "\n",
       "       cong  \n",
       "0       103  \n",
       "1       103  \n",
       "2       103  \n",
       "3       103  \n",
       "4       103  \n",
       "...     ...  \n",
       "22110   115  \n",
       "22111   115  \n",
       "22112   115  \n",
       "22113   115  \n",
       "22114   115  \n",
       "\n",
       "[22115 rows x 4 columns]"
      ]
     },
     "execution_count": 26,
     "metadata": {},
     "output_type": "execute_result"
    }
   ],
   "source": [
    "pd.read_pickle('data/processed/bert_data.pickle')"
   ]
  },
  {
   "cell_type": "code",
   "execution_count": 19,
   "id": "7fd4dcbc-e5e1-4dce-8fe2-ead10db70ca2",
   "metadata": {},
   "outputs": [
    {
     "name": "stdout",
     "output_type": "stream",
     "text": [
      "target train 0/1: 15987/573\n",
      "class weights: [ 0.51792081 14.45026178]\n"
     ]
    }
   ],
   "source": [
    "dm = BillNetDataModule()\n",
    "dm.setup()"
   ]
  },
  {
   "cell_type": "code",
   "execution_count": 25,
   "id": "f1ff955c",
   "metadata": {},
   "outputs": [
    {
     "name": "stdout",
     "output_type": "stream",
     "text": [
      "-----------Test Metrics-----------\n",
      "Accuracy: 0.9893917963224894\n",
      "F1: 0.845360824742268\n",
      "Precision: 0.9534883720930233\n",
      "Recall: 0.7592592592592593\n",
      "ROCAUC: 0.8788943355119826\n"
     ]
    },
    {
     "ename": "NameError",
     "evalue": "name 'average_precision_score' is not defined",
     "output_type": "error",
     "traceback": [
      "\u001b[0;31m---------------------------------------------------------------------------\u001b[0m",
      "\u001b[0;31mNameError\u001b[0m                                 Traceback (most recent call last)",
      "\u001b[0;32m/tmp/ipykernel_5047/2430495145.py\u001b[0m in \u001b[0;36m<module>\u001b[0;34m\u001b[0m\n\u001b[1;32m     18\u001b[0m \u001b[0mprint\u001b[0m\u001b[0;34m(\u001b[0m\u001b[0;34m'Recall: {}'\u001b[0m\u001b[0;34m.\u001b[0m\u001b[0mformat\u001b[0m\u001b[0;34m(\u001b[0m\u001b[0mrecall_score\u001b[0m\u001b[0;34m(\u001b[0m\u001b[0mtest_targs\u001b[0m\u001b[0;34m,\u001b[0m \u001b[0mtest_preds\u001b[0m\u001b[0;34m)\u001b[0m\u001b[0;34m)\u001b[0m\u001b[0;34m)\u001b[0m\u001b[0;34m\u001b[0m\u001b[0;34m\u001b[0m\u001b[0m\n\u001b[1;32m     19\u001b[0m \u001b[0mprint\u001b[0m\u001b[0;34m(\u001b[0m\u001b[0;34m'ROCAUC: {}'\u001b[0m\u001b[0;34m.\u001b[0m\u001b[0mformat\u001b[0m\u001b[0;34m(\u001b[0m\u001b[0mroc_auc_score\u001b[0m\u001b[0;34m(\u001b[0m\u001b[0mtest_targs\u001b[0m\u001b[0;34m,\u001b[0m \u001b[0mtest_preds\u001b[0m\u001b[0;34m)\u001b[0m\u001b[0;34m)\u001b[0m\u001b[0;34m)\u001b[0m\u001b[0;34m\u001b[0m\u001b[0;34m\u001b[0m\u001b[0m\n\u001b[0;32m---> 20\u001b[0;31m \u001b[0mprint\u001b[0m\u001b[0;34m(\u001b[0m\u001b[0;34m'PRAUC: {}'\u001b[0m\u001b[0;34m.\u001b[0m\u001b[0mformat\u001b[0m\u001b[0;34m(\u001b[0m\u001b[0maverage_precision_score\u001b[0m\u001b[0;34m(\u001b[0m\u001b[0mtest_targs\u001b[0m\u001b[0;34m,\u001b[0m \u001b[0mtest_preds\u001b[0m\u001b[0;34m)\u001b[0m\u001b[0;34m)\u001b[0m\u001b[0;34m)\u001b[0m\u001b[0;34m\u001b[0m\u001b[0;34m\u001b[0m\u001b[0m\n\u001b[0m\u001b[1;32m     21\u001b[0m \u001b[0mprint\u001b[0m\u001b[0;34m(\u001b[0m\u001b[0mconfusion_matrix\u001b[0m\u001b[0;34m(\u001b[0m\u001b[0mtest_targs\u001b[0m\u001b[0;34m,\u001b[0m \u001b[0mtest_preds\u001b[0m\u001b[0;34m)\u001b[0m\u001b[0;34m)\u001b[0m\u001b[0;34m\u001b[0m\u001b[0;34m\u001b[0m\u001b[0m\n",
      "\u001b[0;31mNameError\u001b[0m: name 'average_precision_score' is not defined"
     ]
    }
   ],
   "source": [
    "use_cuda = torch.cuda.is_available()\n",
    "device = torch.device(\"cuda:0\" if use_cuda else \"cpu\")\n",
    "\n",
    "net.eval()\n",
    "test_preds, test_targs = [], []\n",
    "with torch.no_grad():\n",
    "    for local_batch, local_meta, local_labels in dm.test_dataloader():\n",
    "        #local_batch = local_batch.to(device, dtype=torch.float)\n",
    "        #local_labels =  local_labels.to(device, dtype=torch.long)\n",
    "        outputs = net(local_batch.float())\n",
    "        predicted = torch.max(outputs.data, 1)[1]\n",
    "        test_targs += list(local_labels.cpu().numpy())\n",
    "        test_preds += list(predicted.data.cpu().numpy())\n",
    "print('-----------Test Metrics-----------')\n",
    "print('Accuracy: {}'.format(accuracy_score(test_targs, test_preds)))\n",
    "print('F1: {}'.format(f1_score(test_targs, test_preds)))\n",
    "print('Precision: {}'.format(precision_score(test_targs, test_preds)))\n",
    "print('Recall: {}'.format(recall_score(test_targs, test_preds)))\n",
    "print('ROCAUC: {}'.format(roc_auc_score(test_targs, test_preds)))\n",
    "print('PRAUC: {}'.format(average_precision_score(test_targs, test_preds)))\n",
    "print(confusion_matrix(test_targs, test_preds))"
   ]
  },
  {
   "cell_type": "code",
   "execution_count": null,
   "id": "fcf628cf",
   "metadata": {},
   "outputs": [],
   "source": [
    "roc_auc_score(test_targs, test_preds)"
   ]
  },
  {
   "cell_type": "code",
   "execution_count": null,
   "id": "792b8be6",
   "metadata": {},
   "outputs": [],
   "source": []
  }
 ],
 "metadata": {
  "accelerator": "GPU",
  "colab": {
   "collapsed_sections": [],
   "name": "downstream_nets.ipynb",
   "provenance": []
  },
  "interpreter": {
   "hash": "794ed8d0b773cbcd7b7ec7f3b705e2b7a8437127647cc51e7d6c4b4e7ca1b777"
  },
  "kernelspec": {
   "display_name": "Python 3.9.7 64-bit ('pyenv': conda)",
   "language": "python",
   "name": "python397jvsc74a57bd0794ed8d0b773cbcd7b7ec7f3b705e2b7a8437127647cc51e7d6c4b4e7ca1b777"
  },
  "language_info": {
   "codemirror_mode": {
    "name": "ipython",
    "version": 3
   },
   "file_extension": ".py",
   "mimetype": "text/x-python",
   "name": "python",
   "nbconvert_exporter": "python",
   "pygments_lexer": "ipython3",
   "version": "3.9.7"
  }
 },
 "nbformat": 4,
 "nbformat_minor": 5
}
