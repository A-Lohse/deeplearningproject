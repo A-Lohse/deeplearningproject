{
 "cells": [
  {
   "cell_type": "code",
   "execution_count": 1,
   "id": "af3b87a6",
   "metadata": {},
   "outputs": [],
   "source": [
    "import json\n",
    "import pandas as pd\n",
    "import os\n",
    "from tqdm import tqdm\n",
    "import numpy as np"
   ]
  },
  {
   "cell_type": "code",
   "execution_count": 2,
   "id": "bc8c4fa9",
   "metadata": {},
   "outputs": [],
   "source": [
    "path = \"C:\\\\Users\\\\tnv664\\\\OneDrive - University of Copenhagen\\\\Documents\\\\Uni\\Ph.D\\\\deep learning\\\\02456-deep-learning-with-PyTorch\\\\project - shared data folde\\\\bills\\\\\""
   ]
  },
  {
   "cell_type": "code",
   "execution_count": 3,
   "id": "9ab74227",
   "metadata": {},
   "outputs": [],
   "source": [
    "congresses = list(os.listdir(path))\n"
   ]
  },
  {
   "cell_type": "code",
   "execution_count": 4,
   "id": "6318838d",
   "metadata": {
    "scrolled": true
   },
   "outputs": [
    {
     "name": "stderr",
     "output_type": "stream",
     "text": [
      " 77%|██████████████████████████████████████████████████████████████▎                  | 10/13 [10:00<05:24, 108.27s/it]"
     ]
    },
    {
     "name": "stdout",
     "output_type": "stream",
     "text": [
      "C:\\Users\\tnv664\\OneDrive - University of Copenhagen\\Documents\\Uni\\Ph.D\\deep learning\\02456-deep-learning-with-PyTorch\\project - shared data folde\\bills\\113\\s\\s1696\n"
     ]
    },
    {
     "name": "stderr",
     "output_type": "stream",
     "text": [
      "\r",
      " 85%|████████████████████████████████████████████████████████████████████▌            | 11/13 [11:36<03:29, 104.54s/it]"
     ]
    },
    {
     "name": "stdout",
     "output_type": "stream",
     "text": [
      "C:\\Users\\tnv664\\OneDrive - University of Copenhagen\\Documents\\Uni\\Ph.D\\deep learning\\02456-deep-learning-with-PyTorch\\project - shared data folde\\bills\\114\\s\\.DS_Store\n"
     ]
    },
    {
     "name": "stderr",
     "output_type": "stream",
     "text": [
      "100%|██████████████████████████████████████████████████████████████████████████████████| 13/13 [15:05<00:00, 69.62s/it]\n"
     ]
    }
   ],
   "source": [
    "bill_ids = []\n",
    "bill_statuses = []\n",
    "for congress in tqdm(congresses):\n",
    "    #getting congress data \n",
    "    p_hr = path + congress + \"\\\\hr\\\\\"\n",
    "     \n",
    "    b = []\n",
    "    status = []\n",
    "    for bill in list(os.listdir(p_hr)):\n",
    "        #p = path + bill \n",
    "        try : \n",
    "            f = open(p_hr + bill + \"\\\\data.json\")\n",
    "            x = json.load(f)\n",
    "\n",
    "            b.append(x['congress'] + \"_\" + bill)\n",
    "            status.append(x['status'])\n",
    "        except:\n",
    "            print(p_hr + bill)\n",
    "    \n",
    "    #df_status = pd.DataFrame(np.array([b,status]).T, columns=['bill','status'])    \n",
    "    bill_ids.append(b)\n",
    "    bill_statuses.append(status) \n",
    "    #getting seneate data\n",
    "    p_s =  path + congress + \"\\\\s\\\\\"\n",
    "    \n",
    "    b = []\n",
    "    status = []\n",
    "    for bill in list(os.listdir(p_s)):\n",
    "       # p = path + bill \n",
    "        try :\n",
    "            f = open(p_s + bill + \"\\\\data.json\")\n",
    "            x = json.load(f)\n",
    "    \n",
    "            b.append(x['congress'] + \"_\" + bill)\n",
    "            status.append(x['status'])\n",
    "        except :\n",
    "            print(p_s + bill)\n",
    "    \n",
    "    bill_ids.append(b)\n",
    "    bill_statuses.append(status) \n",
    "    #df_status_s = pd.DataFrame(np.array([b,status]).T, columns=['bill','status'])    \n",
    "    \n",
    "    #df_concat = pd.concat([df_status,df_status_s])\n",
    "    #df = pd.concat([df,df_concat])\n"
   ]
  },
  {
   "cell_type": "code",
   "execution_count": 13,
   "id": "bcffebe8",
   "metadata": {},
   "outputs": [],
   "source": [
    "def flatten(t):\n",
    "    return [item for sublist in t for item in sublist]"
   ]
  },
  {
   "cell_type": "code",
   "execution_count": 16,
   "id": "db6d87a6",
   "metadata": {},
   "outputs": [
    {
     "data": {
      "text/plain": [
       "121207"
      ]
     },
     "execution_count": 16,
     "metadata": {},
     "output_type": "execute_result"
    }
   ],
   "source": [
    "len()"
   ]
  },
  {
   "cell_type": "code",
   "execution_count": 26,
   "id": "ac55845f",
   "metadata": {
    "scrolled": true
   },
   "outputs": [],
   "source": [
    "df_status_s = pd.DataFrame(np.array([flatten(bill_ids),flatten(bill_statuses)]).T, columns=['bill','status_code'])   "
   ]
  },
  {
   "cell_type": "code",
   "execution_count": 27,
   "id": "9640bf4f",
   "metadata": {},
   "outputs": [
    {
     "data": {
      "text/html": [
       "<div>\n",
       "<style scoped>\n",
       "    .dataframe tbody tr th:only-of-type {\n",
       "        vertical-align: middle;\n",
       "    }\n",
       "\n",
       "    .dataframe tbody tr th {\n",
       "        vertical-align: top;\n",
       "    }\n",
       "\n",
       "    .dataframe thead th {\n",
       "        text-align: right;\n",
       "    }\n",
       "</style>\n",
       "<table border=\"1\" class=\"dataframe\">\n",
       "  <thead>\n",
       "    <tr style=\"text-align: right;\">\n",
       "      <th></th>\n",
       "      <th>bill</th>\n",
       "      <th>status_code</th>\n",
       "    </tr>\n",
       "  </thead>\n",
       "  <tbody>\n",
       "    <tr>\n",
       "      <th>0</th>\n",
       "      <td>103_hr1</td>\n",
       "      <td>ENACTED:SIGNED</td>\n",
       "    </tr>\n",
       "    <tr>\n",
       "      <th>1</th>\n",
       "      <td>103_hr10</td>\n",
       "      <td>REFERRED</td>\n",
       "    </tr>\n",
       "    <tr>\n",
       "      <th>2</th>\n",
       "      <td>103_hr100</td>\n",
       "      <td>REFERRED</td>\n",
       "    </tr>\n",
       "    <tr>\n",
       "      <th>3</th>\n",
       "      <td>103_hr1000</td>\n",
       "      <td>REFERRED</td>\n",
       "    </tr>\n",
       "    <tr>\n",
       "      <th>4</th>\n",
       "      <td>103_hr1001</td>\n",
       "      <td>REFERRED</td>\n",
       "    </tr>\n",
       "    <tr>\n",
       "      <th>...</th>\n",
       "      <td>...</td>\n",
       "      <td>...</td>\n",
       "    </tr>\n",
       "    <tr>\n",
       "      <th>121202</th>\n",
       "      <td>115_s995</td>\n",
       "      <td>PASS_OVER:SENATE</td>\n",
       "    </tr>\n",
       "    <tr>\n",
       "      <th>121203</th>\n",
       "      <td>115_s996</td>\n",
       "      <td>REFERRED</td>\n",
       "    </tr>\n",
       "    <tr>\n",
       "      <th>121204</th>\n",
       "      <td>115_s997</td>\n",
       "      <td>REFERRED</td>\n",
       "    </tr>\n",
       "    <tr>\n",
       "      <th>121205</th>\n",
       "      <td>115_s998</td>\n",
       "      <td>REFERRED</td>\n",
       "    </tr>\n",
       "    <tr>\n",
       "      <th>121206</th>\n",
       "      <td>115_s999</td>\n",
       "      <td>REFERRED</td>\n",
       "    </tr>\n",
       "  </tbody>\n",
       "</table>\n",
       "<p>121207 rows × 2 columns</p>\n",
       "</div>"
      ],
      "text/plain": [
       "              bill       status_code\n",
       "0          103_hr1    ENACTED:SIGNED\n",
       "1         103_hr10          REFERRED\n",
       "2        103_hr100          REFERRED\n",
       "3       103_hr1000          REFERRED\n",
       "4       103_hr1001          REFERRED\n",
       "...            ...               ...\n",
       "121202    115_s995  PASS_OVER:SENATE\n",
       "121203    115_s996          REFERRED\n",
       "121204    115_s997          REFERRED\n",
       "121205    115_s998          REFERRED\n",
       "121206    115_s999          REFERRED\n",
       "\n",
       "[121207 rows x 2 columns]"
      ]
     },
     "execution_count": 27,
     "metadata": {},
     "output_type": "execute_result"
    }
   ],
   "source": [
    "df_status_s"
   ]
  },
  {
   "cell_type": "code",
   "execution_count": 30,
   "id": "3644ab39",
   "metadata": {},
   "outputs": [],
   "source": [
    "df_status_s['status'] = 0"
   ]
  },
  {
   "cell_type": "code",
   "execution_count": 31,
   "id": "9ae1b86e",
   "metadata": {},
   "outputs": [],
   "source": [
    "df_status_s.loc[df_status_s['status_code'].isin(['ENACTED:SIGNED', 'ENACTED:VETO_OVERRIDE','ENACTED:TENDAYRULE']),'status'] = 1"
   ]
  },
  {
   "cell_type": "code",
   "execution_count": 32,
   "id": "5a49b4d6",
   "metadata": {},
   "outputs": [
    {
     "data": {
      "text/html": [
       "<div>\n",
       "<style scoped>\n",
       "    .dataframe tbody tr th:only-of-type {\n",
       "        vertical-align: middle;\n",
       "    }\n",
       "\n",
       "    .dataframe tbody tr th {\n",
       "        vertical-align: top;\n",
       "    }\n",
       "\n",
       "    .dataframe thead th {\n",
       "        text-align: right;\n",
       "    }\n",
       "</style>\n",
       "<table border=\"1\" class=\"dataframe\">\n",
       "  <thead>\n",
       "    <tr style=\"text-align: right;\">\n",
       "      <th></th>\n",
       "      <th>bill</th>\n",
       "      <th>status_code</th>\n",
       "      <th>status</th>\n",
       "    </tr>\n",
       "  </thead>\n",
       "  <tbody>\n",
       "    <tr>\n",
       "      <th>0</th>\n",
       "      <td>103_hr1</td>\n",
       "      <td>ENACTED:SIGNED</td>\n",
       "      <td>1</td>\n",
       "    </tr>\n",
       "    <tr>\n",
       "      <th>1</th>\n",
       "      <td>103_hr10</td>\n",
       "      <td>REFERRED</td>\n",
       "      <td>0</td>\n",
       "    </tr>\n",
       "    <tr>\n",
       "      <th>2</th>\n",
       "      <td>103_hr100</td>\n",
       "      <td>REFERRED</td>\n",
       "      <td>0</td>\n",
       "    </tr>\n",
       "    <tr>\n",
       "      <th>3</th>\n",
       "      <td>103_hr1000</td>\n",
       "      <td>REFERRED</td>\n",
       "      <td>0</td>\n",
       "    </tr>\n",
       "    <tr>\n",
       "      <th>4</th>\n",
       "      <td>103_hr1001</td>\n",
       "      <td>REFERRED</td>\n",
       "      <td>0</td>\n",
       "    </tr>\n",
       "    <tr>\n",
       "      <th>...</th>\n",
       "      <td>...</td>\n",
       "      <td>...</td>\n",
       "      <td>...</td>\n",
       "    </tr>\n",
       "    <tr>\n",
       "      <th>121202</th>\n",
       "      <td>115_s995</td>\n",
       "      <td>PASS_OVER:SENATE</td>\n",
       "      <td>0</td>\n",
       "    </tr>\n",
       "    <tr>\n",
       "      <th>121203</th>\n",
       "      <td>115_s996</td>\n",
       "      <td>REFERRED</td>\n",
       "      <td>0</td>\n",
       "    </tr>\n",
       "    <tr>\n",
       "      <th>121204</th>\n",
       "      <td>115_s997</td>\n",
       "      <td>REFERRED</td>\n",
       "      <td>0</td>\n",
       "    </tr>\n",
       "    <tr>\n",
       "      <th>121205</th>\n",
       "      <td>115_s998</td>\n",
       "      <td>REFERRED</td>\n",
       "      <td>0</td>\n",
       "    </tr>\n",
       "    <tr>\n",
       "      <th>121206</th>\n",
       "      <td>115_s999</td>\n",
       "      <td>REFERRED</td>\n",
       "      <td>0</td>\n",
       "    </tr>\n",
       "  </tbody>\n",
       "</table>\n",
       "<p>121207 rows × 3 columns</p>\n",
       "</div>"
      ],
      "text/plain": [
       "              bill       status_code  status\n",
       "0          103_hr1    ENACTED:SIGNED       1\n",
       "1         103_hr10          REFERRED       0\n",
       "2        103_hr100          REFERRED       0\n",
       "3       103_hr1000          REFERRED       0\n",
       "4       103_hr1001          REFERRED       0\n",
       "...            ...               ...     ...\n",
       "121202    115_s995  PASS_OVER:SENATE       0\n",
       "121203    115_s996          REFERRED       0\n",
       "121204    115_s997          REFERRED       0\n",
       "121205    115_s998          REFERRED       0\n",
       "121206    115_s999          REFERRED       0\n",
       "\n",
       "[121207 rows x 3 columns]"
      ]
     },
     "execution_count": 32,
     "metadata": {},
     "output_type": "execute_result"
    }
   ],
   "source": [
    "df_status_s"
   ]
  },
  {
   "cell_type": "code",
   "execution_count": 33,
   "id": "e8c5e40f",
   "metadata": {},
   "outputs": [],
   "source": [
    "df_status_s.to_csv('bill_status.csv')"
   ]
  },
  {
   "cell_type": "code",
   "execution_count": null,
   "id": "0ed0b7ee",
   "metadata": {},
   "outputs": [],
   "source": []
  }
 ],
 "metadata": {
  "kernelspec": {
   "display_name": "Python 3 (ipykernel)",
   "language": "python",
   "name": "python3"
  },
  "language_info": {
   "codemirror_mode": {
    "name": "ipython",
    "version": 3
   },
   "file_extension": ".py",
   "mimetype": "text/x-python",
   "name": "python",
   "nbconvert_exporter": "python",
   "pygments_lexer": "ipython3",
   "version": "3.8.11"
  }
 },
 "nbformat": 4,
 "nbformat_minor": 5
}
